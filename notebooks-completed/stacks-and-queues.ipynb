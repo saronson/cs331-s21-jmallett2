{
    "nbformat_minor": 0,
    "nbformat": 4,
    "metadata": {
        "language_info": {
            "version": "3.5.2",
            "pygments_lexer": "ipython3",
            "nbconvert_exporter": "python",
            "name": "python",
            "mimetype": "text/x-python",
            "file_extension": ".py",
            "codemirror_mode": {
                "version": 3,
                "name": "ipython"
            }
        },
        "kernelspec": {
            "name": "python3",
            "language": "python",
            "display_name": "Python 3"
        },
        "org": null
    },
    "cells": [
        {
            "source": [
                "#### Stacks and Queues:PROPERTIES:\n\n"
            ],
            "metadata": {
            },
            "cell_type": "markdown"
        },
        {
            "source": [
                "##### Agenda\n\n"
            ],
            "metadata": {
            },
            "cell_type": "markdown"
        },
        {
            "source": [
                "1.  Stacks\n    -   &#x2026; for delimiter pairing\n    -   &#x2026; for postfix expression evaluation\n    -   &#x2026; for tracking execution and *backtracking*\n\n2.  Queues\n    -   &#x2026; for tracking execution and *backtracking*\n    -   &#x2026; for fair scheduling (aka \"round-robin\" scheduling)\n    -   &#x2026; for apportioning work\n\n3.  Run-time analysis\n\n"
            ],
            "metadata": {
            },
            "cell_type": "markdown"
        },
        {
            "source": [
                "##### Overview\n\n"
            ],
            "metadata": {
            },
            "cell_type": "markdown"
        },
        {
            "source": [
                "While the list data structure is incredibly useful, both implementations\nwe explored (array-backed and linked) have operations that run in $O(N)$\ntime, which make them non-ideal for use with large, growing collections\nof data.\n\nBy further restricting the list API, however &#x2014; in particular, by\n*isolating points of access to either the front or end of the data set*\n&#x2014; we can create data structures whose operations are all $O(1)$, and\nremain very useful in their own right.\n\n"
            ],
            "metadata": {
            },
            "cell_type": "markdown"
        },
        {
            "source": [
                "##### 1.  Stacks\n\n"
            ],
            "metadata": {
            },
            "cell_type": "markdown"
        },
        {
            "source": [
                "Stacks are linear data structures which only permit access to one \"end\"\nof the data collection. We can only append (\"push\") items onto the tail\nend (a.k.a. the \"top\") of a stack, and only the most recently added item\ncan be removed (\"popped\"). The last item to be pushed onto a stack is\ntherefore the first one to be popped off, which is why we refer to\nstacks as **last-in, first out** (**LIFO**) structures.\n\n"
            ],
            "metadata": {
            },
            "cell_type": "markdown"
        },
        {
            "source": [
                "###### Array-based implementation\n\n"
            ],
            "metadata": {
            },
            "cell_type": "markdown"
        },
        {
            "source": [
                "# array-backed implementation\n\nclass Stack:\n    def __init__(self):\n        self.data = []\n\n    def push(self, val): # O(1) - append is O(1)\n        self.data.append(val)\n\n    def pop(self): # O(1) - deleting at the end is O(1)\n        assert not self.empty()\n        val = self.data[-1]\n        del self.data[-1]\n        return val\n\n    def peek(self):\n        assert not self.empty()\n        return self.data[-1]\n\n    def empty(self):\n        return self.data == []\n\n    def __bool__(self):\n        return not self.empty()\n\n    def __repr__(self):\n        return self.data.__repr__()\n\n    def __str__(self):\n        return self.__repr__()"
            ],
            "outputs": [
                {
                    "text": "# Out[191]:",
                    "output_type": "stream",
                    "name": "stdout"
                }
            ],
            "metadata": {
            },
            "execution_count": 1,
            "cell_type": "code"
        },
        {
            "source": [
                "s = Stack()\nfor x in range(10):\n    s.push(x)\ns"
            ],
            "outputs": [
                {
                    "text": "# Out[192]:\n[0, 1, 2, 3, 4, 5, 6, 7, 8, 9]",
                    "output_type": "stream",
                    "name": "stdout"
                }
            ],
            "metadata": {
            },
            "execution_count": 1,
            "cell_type": "code"
        },
        {
            "source": [
                "while s:\n    print(s.pop())"
            ],
            "outputs": [
                {
                    "text": "9\n8\n7\n6\n5\n4\n3\n2\n1\n0",
                    "output_type": "stream",
                    "name": "stdout"
                }
            ],
            "metadata": {
            },
            "execution_count": 1,
            "cell_type": "code"
        },
        {
            "source": [
                "###### Linked list implementation\n\n"
            ],
            "metadata": {
            },
            "cell_type": "markdown"
        },
        {
            "source": [
                "# linked implementation\n\nclass LStack:\n    class Node:\n        def __init__(self, val, next=None):\n            self.val = val\n            self.next  = next\n\n    def __init__(self):\n        self.top = None\n\n    def push(self, val):\n        lc = self.Node(val,next=self.top)\n        self.top = lc\n\n    def pop(self):\n        assert not self.empty()\n        val = self.top.val\n        self.top = self.top.next\n        return val\n\n    def peek(self):\n        assert not self.empty()\n        return self.top.val\n\n    def empty(self):\n        return not self.top\n\n    def __bool__(self):\n        return not self.empty()\n\n    def __iter__(self):\n        l = self.top\n        while l:\n            yield l\n            l = l.next\n\n    def __repr__(self):\n        return '[' + ','.join([ str(l.val) for l in self ]) + ']'\n\n    def __str__(self):\n        return self.__repr__()"
            ],
            "outputs": [
                {
                    "text": "# Out[194]:",
                    "output_type": "stream",
                    "name": "stdout"
                }
            ],
            "metadata": {
            },
            "execution_count": 1,
            "cell_type": "code"
        },
        {
            "source": [
                "sl = LStack()\nfor x in range(10):\n    sl.push(x)\nsl"
            ],
            "outputs": [
                {
                    "text": "# Out[195]:\n[9,8,7,6,5,4,3,2,1,0]",
                    "output_type": "stream",
                    "name": "stdout"
                }
            ],
            "metadata": {
            },
            "execution_count": 1,
            "cell_type": "code"
        },
        {
            "source": [
                "while sl:\n    print(sl.pop())"
            ],
            "outputs": [
                {
                    "text": "9\n8\n7\n6\n5\n4\n3\n2\n1\n0",
                    "output_type": "stream",
                    "name": "stdout"
                }
            ],
            "metadata": {
            },
            "execution_count": 1,
            "cell_type": "code"
        },
        {
            "source": [
                "###### &#x2026; for delimiter pairing\n\n"
            ],
            "metadata": {
            },
            "cell_type": "markdown"
        },
        {
            "source": [
                "Stacks are used by parsers to decide if delimited expressions are\nwell-formed.\n\n-   e.g., `'(1 + 2 * (3 - (4 / 2) + 5) - (6 + 1))'` - is valid\n-   `'((1 + 2)'` - not valid, because first parenthesis is not closed\n-   `'(1 + 2)))'` - not valid, because parenthesis are closed that were not opened\n-   `'(1 + 1)'` - valid\n-   `'(1 + 1) + ((1 + (2 / 4)))'` -\n\n"
            ],
            "metadata": {
            },
            "cell_type": "markdown"
        },
        {
            "source": [
                "def check_parens(expr):\n    s = Stack()\n    for c in expr:\n        if c == '(':\n            s.push(c)\n        if c == ')':\n            if s.empty():\n                return False\n            s.pop()\n    return s.empty()"
            ],
            "outputs": [
                {
                    "text": "# Out[197]:",
                    "output_type": "stream",
                    "name": "stdout"
                }
            ],
            "metadata": {
            },
            "execution_count": 1,
            "cell_type": "code"
        },
        {
            "source": [
                "check_parens('()')"
            ],
            "outputs": [
                {
                    "text": "# Out[198]:\nTrue",
                    "output_type": "stream",
                    "name": "stdout"
                }
            ],
            "metadata": {
            },
            "execution_count": 1,
            "cell_type": "code"
        },
        {
            "source": [
                "check_parens('((()))')"
            ],
            "outputs": [
                {
                    "text": "# Out[199]:\nTrue",
                    "output_type": "stream",
                    "name": "stdout"
                }
            ],
            "metadata": {
            },
            "execution_count": 1,
            "cell_type": "code"
        },
        {
            "source": [
                "check_parens('()(()()(()))')"
            ],
            "outputs": [
                {
                    "text": "# Out[200]:\nTrue",
                    "output_type": "stream",
                    "name": "stdout"
                }
            ],
            "metadata": {
            },
            "execution_count": 1,
            "cell_type": "code"
        },
        {
            "source": [
                "check_parens('(')"
            ],
            "outputs": [
                {
                    "text": "# Out[201]:\nFalse",
                    "output_type": "stream",
                    "name": "stdout"
                }
            ],
            "metadata": {
            },
            "execution_count": 1,
            "cell_type": "code"
        },
        {
            "source": [
                "check_parens('())')"
            ],
            "outputs": [
                {
                    "text": "# Out[202]:\nFalse",
                    "output_type": "stream",
                    "name": "stdout"
                }
            ],
            "metadata": {
            },
            "execution_count": 1,
            "cell_type": "code"
        },
        {
            "source": [
                "check_parens('(1 + 2 * (3 - (4 / 2) + 5) - (6 + 1))')"
            ],
            "outputs": [
                {
                    "text": "# Out[203]:\nTrue",
                    "output_type": "stream",
                    "name": "stdout"
                }
            ],
            "metadata": {
            },
            "execution_count": 1,
            "cell_type": "code"
        },
        {
            "source": [
                "###### &#x2026; for postfix expression (aka \"reverse polish notation\")\n\n"
            ],
            "metadata": {
            },
            "cell_type": "markdown"
        },
        {
            "source": [
                "evaluation\nStacks are used for the evaluation of postfix arithmetic expressions\n(which can be easily converted back and forth between the more common\ninfix expressions).\n\ne.g., `'(1 + 2) * 5'` $\\rightarrow$ `'1 2 + 5 *'`\n\n"
            ],
            "metadata": {
            },
            "cell_type": "markdown"
        },
        {
            "source": [
                "def is_int(s):\n    try:\n        i = int(s)\n    except ValueError:\n        return False\n    return True\n\ndef apply_op(op,left,right):\n    if op == '+':\n        return left + right\n    if op == '*':\n        return left * right\n    if op == '-':\n        return left - right\n    if op == '/':\n        return left / right\n    if op == '//':\n        return left // right\n    raise Exception(f\"cannot handle operator {op}\")\n\ndef eval_postfix(expr):\n    s = Stack()\n    toks = expr.split()\n    for t in toks:\n        if is_int(t):\n            s.push(int(t))\n        else:\n            val = apply_op(t, s.pop(), s.pop())\n            s.push(val)\n    return s.pop()"
            ],
            "outputs": [
                {
                    "text": "# Out[204]:",
                    "output_type": "stream",
                    "name": "stdout"
                }
            ],
            "metadata": {
            },
            "execution_count": 1,
            "cell_type": "code"
        },
        {
            "source": [
                "eval_postfix('1 2 + 5 *')"
            ],
            "outputs": [
                {
                    "text": "# Out[205]:\n15",
                    "output_type": "stream",
                    "name": "stdout"
                }
            ],
            "metadata": {
            },
            "execution_count": 1,
            "cell_type": "code"
        },
        {
            "source": [
                "-   `((5 * 2) + 1)` - this is 11\n\n"
            ],
            "metadata": {
            },
            "cell_type": "markdown"
        },
        {
            "source": [
                "eval_postfix('1 2 5 * +')"
            ],
            "outputs": [
                {
                    "text": "# Out[206]:\n11",
                    "output_type": "stream",
                    "name": "stdout"
                }
            ],
            "metadata": {
            },
            "execution_count": 1,
            "cell_type": "code"
        },
        {
            "source": [
                "# ((1 + 2) * (3 + 2)) * 10 = 150\neval_postfix('1 2 + 3 2 + * 10 *')"
            ],
            "outputs": [
                {
                    "text": "# Out[207]:\n150",
                    "output_type": "stream",
                    "name": "stdout"
                }
            ],
            "metadata": {
            },
            "execution_count": 1,
            "cell_type": "code"
        },
        {
            "source": [
                "###### &#x2026; for tracking execution and backtracking\n\n"
            ],
            "metadata": {
            },
            "cell_type": "markdown"
        },
        {
            "source": [
                "maze_str = \"\"\"######\nI    #\n# ## #\n# ####\n#    O\n######\"\"\"\n\ndef parse_maze(maze_str):\n    '''Parses a string representing a maze into a 2D array.'''\n    grid = []\n    for line in maze_str.split('\\n'):\n        grid.append(['# IO'.index(c) for c in line.strip()])\n    return grid\n\ndef print_maze(grid):\n    '''Takes a 2D array maze representation and pretty-prints it.\n         The contents of the 2D maze are in the range 0-5, which are interpreted as:\n\n    0: a wall\n    1: an unvisited (i.e., not previously traversed) path\n    2: the maze entrance\n    3: the maze exit\n    4: a discovered but unvisited path\n    5: a visited path\n    '''\n    for r in grid:\n        print(''.join('# IO!+'[c] for c in r))"
            ],
            "outputs": [
                {
                    "text": "# Out[208]:",
                    "output_type": "stream",
                    "name": "stdout"
                }
            ],
            "metadata": {
            },
            "execution_count": 1,
            "cell_type": "code"
        },
        {
            "source": [
                "parse_maze(maze_str)"
            ],
            "outputs": [
                {
                    "text": "# Out[209]:\n#+BEGIN_EXAMPLE\n  [[0, 0, 0, 0, 0, 0],\n  [2, 1, 1, 1, 1, 0],\n  [0, 1, 0, 0, 1, 0],\n  [0, 1, 0, 0, 0, 0],\n  [0, 1, 1, 1, 1, 3],\n  [0, 0, 0, 0, 0, 0]]\n#+END_EXAMPLE",
                    "output_type": "stream",
                    "name": "stdout"
                }
            ],
            "metadata": {
            },
            "execution_count": 1,
            "cell_type": "code"
        },
        {
            "source": [
                "print_maze(parse_maze(maze_str))"
            ],
            "outputs": [
                {
                    "text": "######\nI    #\n# ## #\n# ####\n#    O\n######",
                    "output_type": "stream",
                    "name": "stdout"
                }
            ],
            "metadata": {
            },
            "execution_count": 1,
            "cell_type": "code"
        },
        {
            "source": [
                "maze = parse_maze(maze_str)\nmaze[1][0] = maze[1][1] = 5\nmaze[1][2] = maze[2][1] = 4\nprint_maze(maze)"
            ],
            "outputs": [
                {
                    "text": "######\n++!  #\n#!## #\n# ####\n#    O\n######",
                    "output_type": "stream",
                    "name": "stdout"
                }
            ],
            "metadata": {
            },
            "execution_count": 1,
            "cell_type": "code"
        },
        {
            "source": [
                "class Move:\n    '''Represents a move in the maze between orthogonally adjacent locations\n        `frm` and `to`, which are both (row,col) tuples.'''\n    def __init__(self, frm, to):\n        self.frm = frm\n        self.to  = to\n\n    def __repr__(self):\n        return '({},{}) -> ({},{})'.format(self.frm[0], self.frm[1],\n                                           self.to[0],  self.to[1])\n\ndef moves(maze, loc):\n    '''Returns all possible moves within a maze from the provide location.'''\n    moves = [Move(loc, (loc[0]+d[0], loc[1]+d[1]))\n             for d in ((-1, 0), (1, 0), (0, -1), (0, 1))\n             if loc[0]+d[0] in range(len(maze)) and\n             loc[1]+d[1] in range(len(maze[0])) and\n             maze[loc[0]+d[0]][loc[1]+d[1]] in (1, 2, 3)]\n    return moves"
            ],
            "outputs": [
                {
                    "text": "# Out[212]:",
                    "output_type": "stream",
                    "name": "stdout"
                }
            ],
            "metadata": {
            },
            "execution_count": 1,
            "cell_type": "code"
        },
        {
            "source": [
                "maze = parse_maze(maze_str)\nprint_maze(maze)"
            ],
            "outputs": [
                {
                    "text": "######\nI    #\n# ## #\n# ####\n#    O\n######",
                    "output_type": "stream",
                    "name": "stdout"
                }
            ],
            "metadata": {
            },
            "execution_count": 1,
            "cell_type": "code"
        },
        {
            "source": [
                "moves(maze, (1, 0))"
            ],
            "outputs": [
                {
                    "text": "# Out[214]:\n[(1,0) -> (1,1)]",
                    "output_type": "stream",
                    "name": "stdout"
                }
            ],
            "metadata": {
            },
            "execution_count": 1,
            "cell_type": "code"
        },
        {
            "source": [
                "moves(maze, (1, 1))"
            ],
            "outputs": [
                {
                    "text": "# Out[215]:\n[(1,1) -> (2,1), (1,1) -> (1,0), (1,1) -> (1,2)]",
                    "output_type": "stream",
                    "name": "stdout"
                }
            ],
            "metadata": {
            },
            "execution_count": 1,
            "cell_type": "code"
        },
        {
            "source": [
                "maze[1][0] = 5\nmoves(maze, (1, 1))"
            ],
            "outputs": [
                {
                    "text": "# Out[216]:\n[(1,1) -> (2,1), (1,1) -> (1,2)]",
                    "output_type": "stream",
                    "name": "stdout"
                }
            ],
            "metadata": {
            },
            "execution_count": 1,
            "cell_type": "code"
        },
        {
            "source": [
                "from time import sleep\nfrom IPython.display import clear_output\n\ndef mark(maze, loc):\n    '''Marks a loc in the maze as having been discovered'''\n    if maze[loc[0]][loc[1]] != 3:\n        maze[loc[0]][loc[1]] = 4\n\ndef visit(maze, loc):\n    '''Marks a loc in the maze as having been visited'''\n    maze[loc[0]][loc[1]] = 5\n\ndef display(maze):\n    '''Prints out the maze after clearing the cell -- useful for animation.'''\n    clear_output(True)\n    print_maze(maze)\n    #sleep(0.1)"
            ],
            "outputs": [
                {
                    "text": "# Out[217]:",
                    "output_type": "stream",
                    "name": "stdout"
                }
            ],
            "metadata": {
            },
            "execution_count": 1,
            "cell_type": "code"
        },
        {
            "source": [
                "def solve_maze(maze, entry):\n    '''Searches for the exit in a maze starting from the given entry point.\n\n         The algorithm works as follows:\n\n         1. Visit the entry point and save all possible moves from that location.\n         2. Remove and consider one of the saved moves. If it is the exit, we are done,\n            otherwise visit the destination and save all possible moves from there.\n         3. If we run out of saved moves, we can't find an exit.\n\n         When we save a move, we also mark it as \"discovered\" in the maze.\n\n         The data structure used to save moves plays a critical role in how maze\n         exploration proceeds!\n    '''\n    for m in moves(maze, entry):\n        save_move(m)\n        visit(maze, entry)\n        while not out_of_moves():\n            move = next_move()\n            if maze[move.to[0]][move.to[1]] == 3:\n                break\n            display(maze)\n            visit(maze, move.to)\n            for m in moves(maze, move.to):\n                mark(maze, m.to)\n                save_move(m)\n                display(maze)"
            ],
            "outputs": [
                {
                    "text": "# Out[218]:",
                    "output_type": "stream",
                    "name": "stdout"
                }
            ],
            "metadata": {
            },
            "execution_count": 1,
            "cell_type": "code"
        },
        {
            "source": [
                "move_stack = LStack()\n\ndef save_move(move):\n    move_stack.push(move)\n\ndef next_move():\n    return move_stack.pop()\n\ndef out_of_moves():\n    return move_stack.empty()"
            ],
            "outputs": [
                {
                    "text": "# Out[219]:",
                    "output_type": "stream",
                    "name": "stdout"
                }
            ],
            "metadata": {
            },
            "execution_count": 1,
            "cell_type": "code"
        },
        {
            "source": [
                "move_stack = LStack()\nmaze_str = \"\"\"######\n              I    #\n              # ## #\n              # ####\n              #    O\n              ######\"\"\"\nsolve_maze(parse_maze(maze_str), (1, 0))"
            ],
            "outputs": [
                {
                    "text": "# Out[221]:",
                    "output_type": "stream",
                    "name": "stdout"
                }
            ],
            "metadata": {
            },
            "execution_count": 1,
            "cell_type": "code"
        },
        {
            "source": [
                "maze_str = \"\"\"#################\n              I #       #     #\n              # ##### # # # # #\n              #     # # # # # #\n              # ### ### # # ###\n              #   #       #   O\n              #################\"\"\"\n\nsolve_maze(parse_maze(maze_str), (1, 0))"
            ],
            "outputs": [
                {
                    "text": "# Out[54]:",
                    "output_type": "stream",
                    "name": "stdout"
                }
            ],
            "metadata": {
            },
            "execution_count": 1,
            "cell_type": "code"
        },
        {
            "source": [
                "maze_str = \"\"\"#################\n              I               #\n              # # # # # # # # #\n              # # # # # # # # #\n              # ###############\n              #               O\n              #################\"\"\"\n\nsolve_maze(parse_maze(maze_str), (1, 0))"
            ],
            "outputs": [],
            "metadata": {
            },
            "execution_count": 1,
            "cell_type": "code"
        },
        {
            "source": [
                "Intuitively, because the stack is a last-in, first-out data structure,\nit keeps following moves down the most recently discovered path until it\neither reaches the exit or reaches a dead end. It then picks up from the\npreviously discovered path. We call this type of exploration\n*depth-first traversal*.\n\n"
            ],
            "metadata": {
            },
            "cell_type": "markdown"
        },
        {
            "source": [
                "##### 1.  Queues\n\n"
            ],
            "metadata": {
            },
            "cell_type": "markdown"
        },
        {
            "source": [
                "###### What are queues?\n\n"
            ],
            "metadata": {
            },
            "cell_type": "markdown"
        },
        {
            "source": [
                "Queues are linear data structures wherein we are only permitted to\n append (\"enqueue\") items onto the rear, and remove (\"dequeue\") items\n from the front. The oldest item still in a queue is therefore the next\n one to be dequeued, which is why we refer to a queue as a first-in,\n first-out (FIFO) structure. It is helpful to think of a queue as being\n the model for a line at a typical supermarket checkout aisle (first\n customer in, first customer to be checked out).\n\n"
            ],
            "metadata": {
            },
            "cell_type": "markdown"
        },
        {
            "source": [
                "###### Array-backed implementation\n\n"
            ],
            "metadata": {
            },
            "cell_type": "markdown"
        },
        {
            "source": [
                "# array-backed implementation\n\nclass Queue:\n    def __init__(self):\n        self.data = []\n\n    def enqueue(self, val):\n        pass\n\n    def dequeue(self):\n        assert not self.empty()\n        pass\n\n    def empty(self):\n        pass\n\n    def __bool__(self):\n        return not self.empty()"
            ],
            "outputs": [],
            "metadata": {
            },
            "execution_count": 1,
            "cell_type": "code"
        },
        {
            "source": [
                "q = Queue()\nfor x in range(10):\n    q.enqueue(x)"
            ],
            "outputs": [],
            "metadata": {
            },
            "execution_count": 1,
            "cell_type": "code"
        },
        {
            "source": [
                "while q:\n    print(q.dequeue())"
            ],
            "outputs": [],
            "metadata": {
            },
            "execution_count": 1,
            "cell_type": "code"
        },
        {
            "source": [
                "###### Circular array-backed implementation\n\n"
            ],
            "metadata": {
            },
            "cell_type": "markdown"
        },
        {
            "source": [
                "# circular array-backed implementation\nclass Queue:\n\n    def __init__(self, size):\n        self.data = [None] * size\n        self.head = self.tail = -1\n\n    def enqueue(self, val):\n        self.tail = (self.tail + 1) % len(self.data)\n        if self.tail == self.head:\n            raise Exception(\"queue is full\")\n        self.data[self.tail] = val\n\n    def dequeue(self):\n        assert not self.empty()\n        self.head += 1\n        return self.data[self.head]\n\n    def empty(self):\n        return self.head == self.tail\n\n    def markel(self, i):\n        s = str(self.data[i])\n        if i == self.head:\n            s = '*' + s\n        if i == self.tail:\n            s = '&' + s\n        return s\n\n    def __repr__(self):\n        return '[' + ','.join([ self.markel(i) for i in range(0, len(self.data)) ]) + ']'\n\n    def __str__(self):\n        return self.__repr__()"
            ],
            "outputs": [
                {
                    "text": ":results:\n # Out[180]:\n :end:",
                    "output_type": "stream",
                    "name": "stdout"
                }
            ],
            "metadata": {
            },
            "execution_count": 1,
            "cell_type": "code"
        },
        {
            "source": [
                "q = Queue(10)\nfor x in range(6):\n    q.enqueue(x)\nq"
            ],
            "outputs": [
                {
                    "text": ":results:\n # Out[186]:\n : [0,1,2,3,4,&5,None,None,None,None]\n :end:",
                    "output_type": "stream",
                    "name": "stdout"
                }
            ],
            "metadata": {
            },
            "execution_count": 1,
            "cell_type": "code"
        },
        {
            "source": [
                "for x in range(5):\n    print(q.dequeue())"
            ],
            "outputs": [
                {
                    "text": ":results:\n 0\n 1\n 2\n 3\n 4\n :end:",
                    "output_type": "stream",
                    "name": "stdout"
                }
            ],
            "metadata": {
            },
            "execution_count": 1,
            "cell_type": "code"
        },
        {
            "source": [
                "q"
            ],
            "outputs": [
                {
                    "text": ":results:\n # Out[188]:\n : [0,1,2,3,*4,&5,None,None,None,None]\n :end:",
                    "output_type": "stream",
                    "name": "stdout"
                }
            ],
            "metadata": {
            },
            "execution_count": 1,
            "cell_type": "code"
        },
        {
            "source": [
                "for x in range(6, 12):\n    q.enqueue(x)\nq"
            ],
            "outputs": [
                {
                    "text": ":results:\n # Out[189]:\n : [10,&11,2,3,*4,5,6,7,8,9]\n :end:",
                    "output_type": "stream",
                    "name": "stdout"
                }
            ],
            "metadata": {
            },
            "execution_count": 1,
            "cell_type": "code"
        },
        {
            "source": [
                "###### Single linked list with tail implementation\n\n"
            ],
            "metadata": {
            },
            "cell_type": "markdown"
        },
        {
            "source": [
                "# linked implementation\n\nclass Queue:\n    class Node:\n        def __init__(self, val, next=None):\n            self.val = val\n            self.next  = next\n\n    def __init__(self):\n        self.head = self.tail = None\n\n    def enqueue(self, val):\n        n = Queue.Node(val, None)\n        if self.tail:\n            self.tail.next = n\n        else:\n            self.head = n\n        self.tail = n\n\n    def dequeue(self):\n        assert not self.empty()\n        n = self.head\n        self.head = self.head.next\n        if n == self.tail:\n            self.tail = None\n        return n.val\n\n    def empty(self):\n        return not self.head\n\n    def __bool__(self):\n        return not self.empty()\n\n    def __iter__(self):\n        n = self.head\n        while n:\n            yield n.val\n            n = n.next\n\n    def __repr__(self):\n        return \"[\" + ','.join([ str(v) for v in self ]) + ']'"
            ],
            "outputs": [
                {
                    "text": ":results:\n # Out[190]:\n :end:",
                    "output_type": "stream",
                    "name": "stdout"
                }
            ],
            "metadata": {
            },
            "execution_count": 1,
            "cell_type": "code"
        },
        {
            "source": [
                "q = Queue()\nfor x in range(10):\n    q.enqueue(x)\nq"
            ],
            "outputs": [
                {
                    "text": ":results:\n # Out[67]:\n : [0,1,2,3,4,5,6,7,8,9]\n :end:",
                    "output_type": "stream",
                    "name": "stdout"
                }
            ],
            "metadata": {
            },
            "execution_count": 1,
            "cell_type": "code"
        },
        {
            "source": [
                "while q:\n    print(q.dequeue())"
            ],
            "outputs": [
                {
                    "text": ":results:\n 0\n 1\n 2\n 3\n 4\n 5\n 6\n 7\n 8\n 9\n :end:",
                    "output_type": "stream",
                    "name": "stdout"
                }
            ],
            "metadata": {
            },
            "execution_count": 1,
            "cell_type": "code"
        },
        {
            "source": [
                "###### &#x2026; for tracking execution and backtracking\n\n"
            ],
            "metadata": {
            },
            "cell_type": "markdown"
        },
        {
            "source": [
                "move_queue = Queue()\n\ndef save_move(move):\n    move_queue.enqueue(move)\n\ndef next_move():\n    return move_queue.dequeue()\n\ndef out_of_moves():\n    return move_queue.empty()"
            ],
            "outputs": [
                {
                    "text": "# Out[71]:",
                    "output_type": "stream",
                    "name": "stdout"
                }
            ],
            "metadata": {
            },
            "execution_count": 1,
            "cell_type": "code"
        },
        {
            "source": [
                "maze_str = \"\"\"######\n              I    #\n              # ## #\n              # ####\n              #    O\n              ######\"\"\"\n\nsolve_maze(parse_maze(maze_str), (1, 0))"
            ],
            "outputs": [
                {
                    "text": "# Out[72]:",
                    "output_type": "stream",
                    "name": "stdout"
                }
            ],
            "metadata": {
            },
            "execution_count": 1,
            "cell_type": "code"
        },
        {
            "source": [
                "maze_str = \"\"\"#################\n              I #       #     #\n              # ##### # # # # #\n              #     # # # # # #\n              # ### ### # # ###\n              #   #       #   O\n              #################\"\"\"\n\nsolve_maze(parse_maze(maze_str), (1, 0))"
            ],
            "outputs": [],
            "metadata": {
            },
            "execution_count": 1,
            "cell_type": "code"
        },
        {
            "source": [
                "maze_str = \"\"\"#################\n              I               #\n              # # # # # # # # #\n              # # # # # # # # #\n              # ###############\n              #               O\n              #################\"\"\"\n\nsolve_maze(parse_maze(maze_str), (1, 0))"
            ],
            "outputs": [],
            "metadata": {
            },
            "execution_count": 1,
            "cell_type": "code"
        },
        {
            "source": [
                "Intuitively, because the queue is a first-in, first-out &#x2013; i.e., *fair*\n&#x2013; data structure, it keeps rotating through all the paths which haven't\nyet dead-ended, making just one move further down each time. We call\nthis type of exploration **breadth-first traversal**.\n\nAre there types of mazes which might be more suitably tackled using one approach over the other (i.e., depth-first vs. breadth-first)?\n\n"
            ],
            "metadata": {
            },
            "cell_type": "markdown"
        },
        {
            "source": [
                "###### &#x2026; for fair scheduling (aka \"round-robin\" scheduling)\n\n"
            ],
            "metadata": {
            },
            "cell_type": "markdown"
        },
        {
            "source": [
                "Queues are often used to either carry out or simulate the fair\nallocation of resources. Here we implement a \"round-robin\" scheduler for\npermitting different tasks to run for small, fixed periods of time until\nthey complete:\n\n"
            ],
            "metadata": {
            },
            "cell_type": "markdown"
        },
        {
            "source": [
                "from random import randint\nfrom time import sleep\n\ntask_queue = Queue()\nfor i in range(3):\n    task_queue.enqueue(('Job {}'.format(i), randint(3, 6)))"
            ],
            "outputs": [
                {
                    "text": "# Out[73]:",
                    "output_type": "stream",
                    "name": "stdout"
                }
            ],
            "metadata": {
            },
            "execution_count": 1,
            "cell_type": "code"
        },
        {
            "source": [
                "n = task_queue.head\nwhile n:\n    print(n.val)\n    n = n.next"
            ],
            "outputs": [
                {
                    "text": "('Job 0', 5)\n('Job 1', 6)\n('Job 2', 4)",
                    "output_type": "stream",
                    "name": "stdout"
                }
            ],
            "metadata": {
            },
            "execution_count": 1,
            "cell_type": "code"
        },
        {
            "source": [
                "while not task_queue.empty():\n    job, time_left = task_queue.dequeue()\n    print('Running', job)\n    sleep(0.1)\n    time_left -= 1\n    if time_left > 0:\n        print('Re-queueuing', job, 'with remaining time =', time_left)\n        task_queue.enqueue((job, time_left))\n    else:\n        print('*', job, 'done')"
            ],
            "outputs": [
                {
                    "text": "# Out[76]:",
                    "output_type": "stream",
                    "name": "stdout"
                }
            ],
            "metadata": {
            },
            "execution_count": 1,
            "cell_type": "code"
        },
        {
            "source": [
                "from random import randint\nfrom time import sleep\n\ntask_stack = Stack()\nfor i in range(3):\n    task_stack.push(('Job {}'.format(i), randint(3, 6)))"
            ],
            "outputs": [
                {
                    "text": "# Out[85]:",
                    "output_type": "stream",
                    "name": "stdout"
                }
            ],
            "metadata": {
            },
            "execution_count": 1,
            "cell_type": "code"
        },
        {
            "source": [
                "while not task_stack.empty():\n    job, time_left = task_stack.pop()\n    print('Running', job)\n    sleep(0.1)\n    time_left -= 1\n    if time_left > 0:\n        print('Re-stackuing', job, 'with remaining time =', time_left)\n        task_stack.push((job, time_left))\n    else:\n        print(' *', job, 'done')"
            ],
            "outputs": [
                {
                    "text": "Running Job 2\nRe-stackuing Job 2 with remaining time = 3\nRunning Job 2\nRe-stackuing Job 2 with remaining time = 2\nRunning Job 2\nRe-stackuing Job 2 with remaining time = 1\nRunning Job 2\n * Job 2 done\nRunning Job 1\nRe-stackuing Job 1 with remaining time = 4\nRunning Job 1\nRe-stackuing Job 1 with remaining time = 3\nRunning Job 1\nRe-stackuing Job 1 with remaining time = 2\nRunning Job 1\nRe-stackuing Job 1 with remaining time = 1\nRunning Job 1\n * Job 1 done\nRunning Job 0\nRe-stackuing Job 0 with remaining time = 3\nRunning Job 0\nRe-stackuing Job 0 with remaining time = 2\nRunning Job 0\nRe-stackuing Job 0 with remaining time = 1\nRunning Job 0\n * Job 0 done",
                    "output_type": "stream",
                    "name": "stdout"
                }
            ],
            "metadata": {
            },
            "execution_count": 1,
            "cell_type": "code"
        },
        {
            "source": [
                "###### &#x2026; for doling out work\n\n"
            ],
            "metadata": {
            },
            "cell_type": "markdown"
        },
        {
            "source": [
                "Queues are also frequently used as a sort of conveyer belt for multiple\nworker functions to draw from. Here we implement a \"work queue\" pattern\nused by multiple threads of execution:\n\n    from threading import Thread, Lock\n    from time import sleep\n    import random\n    \n    lock = Lock()\n    def worker_fn(cid, q):\n        while True:\n            try:\n                with lock:\n                    work = q.dequeue()\n            except: # queue is empty\n                sleep(1)\n                continue\n            if work == 'Stop':\n                print('Consumer', cid, 'stopping.')\n                break\n            else:\n                print('Consumer', cid, 'processing', work)\n                sleep(random.random())\n    \n    work_queue = Queue()\n    for i in range(5):\n        Thread(target=worker_fn, args=(i, work_queue)).start()\n\n    import threading\n    threading.active_count()\n\n    10\n\n    for i in range(10):\n        with lock:\n            work_queue.enqueue(i)\n\n    for i in range(5):\n        with lock:\n            work_queue.enqueue('Stop')\n\n"
            ],
            "metadata": {
            },
            "cell_type": "markdown"
        },
        {
            "source": [
                "##### 1.  Run-time analysis\n\n"
            ],
            "metadata": {
            },
            "cell_type": "markdown"
        },
        {
            "source": [
                "Stack & Queue implementations:\n\n-   **Insertion** (push and enqueue) = $O(1)$\n-   **Deletion** (pop and dequeue) = $O(1)$\n\n"
            ],
            "metadata": {
            },
            "cell_type": "markdown"
        }
    ]
}