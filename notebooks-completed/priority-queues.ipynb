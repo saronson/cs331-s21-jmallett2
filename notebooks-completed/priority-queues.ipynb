{
    "nbformat_minor": 0,
    "nbformat": 4,
    "metadata": {
        "language_info": {
            "version": "3.5.2",
            "pygments_lexer": "ipython3",
            "nbconvert_exporter": "python",
            "name": "python",
            "mimetype": "text/x-python",
            "file_extension": ".py",
            "codemirror_mode": {
                "version": 3,
                "name": "ipython"
            }
        },
        "kernelspec": {
            "name": "python3",
            "language": "python",
            "display_name": "Python 3"
        },
        "org": null
    },
    "cells": [
        {
            "source": [
                "### Priority Queues:PROPERTIES:\n\n"
            ],
            "metadata": {
            },
            "cell_type": "markdown"
        },
        {
            "source": [
                "#### Agenda\n\n"
            ],
            "metadata": {
            },
            "cell_type": "markdown"
        },
        {
            "source": [
                "1.  Motives\n2.  Naive implementation\n3.  Heaps\n    -   Mechanics\n    -   Implementation\n    -   Run-time Analysis\n4.  Heapsort\n\n"
            ],
            "metadata": {
            },
            "cell_type": "markdown"
        },
        {
            "source": [
                "#### 1.  Motives\n\n"
            ],
            "metadata": {
            },
            "cell_type": "markdown"
        },
        {
            "source": [
                "-   **priority queue** stores number (or items that have a value)\n-   **add(item)** - insert item into the queue\n-   **pop<sub>max</sub>()** - return and remove item with maximum value\n-   **max()** - return item with maximum value\n\n"
            ],
            "metadata": {
            },
            "cell_type": "markdown"
        },
        {
            "source": [
                "#### 1.  Naive implementation\n\n"
            ],
            "metadata": {
            },
            "cell_type": "markdown"
        },
        {
            "source": [
                "class PriorityQueue:\n    def __init__(self):\n        self.data = []\n\n    def add(self, x):\n        self.data.append(x)\n        self.data = sorted(self.data)\n\n    def max(self):\n        return self.data[-1]\n\n    def pop_max(self):\n        m = self.data[-1]\n        del self.data[-1]\n        return m\n\n    def __bool__(self):\n        return len(self.data) > 0\n\n    def __len__(self):\n        return len(self.data)\n\n    def __repr__(self):\n        return repr(self.data)"
            ],
            "outputs": [
                {
                    "text": "# Out[1]:",
                    "output_type": "stream",
                    "name": "stdout"
                }
            ],
            "metadata": {
            },
            "execution_count": 1,
            "cell_type": "code"
        },
        {
            "source": [
                "pq = PriorityQueue()"
            ],
            "outputs": [
                {
                    "text": "# Out[2]:",
                    "output_type": "stream",
                    "name": "stdout"
                }
            ],
            "metadata": {
            },
            "execution_count": 1,
            "cell_type": "code"
        },
        {
            "source": [
                "import random\nfor _ in range(10):\n    pq.add(random.randrange(100))"
            ],
            "outputs": [
                {
                    "text": "# Out[3]:",
                    "output_type": "stream",
                    "name": "stdout"
                }
            ],
            "metadata": {
            },
            "execution_count": 1,
            "cell_type": "code"
        },
        {
            "source": [
                "pq"
            ],
            "outputs": [
                {
                    "text": "# Out[4]:\n[9, 13, 34, 43, 44, 44, 56, 70, 84, 97]",
                    "output_type": "stream",
                    "name": "stdout"
                }
            ],
            "metadata": {
            },
            "execution_count": 1,
            "cell_type": "code"
        },
        {
            "source": [
                "while pq:\n    print(pq.pop_max())"
            ],
            "outputs": [
                {
                    "text": "92\n85\n62\n60\n46\n19\n18\n12\n6\n0",
                    "output_type": "stream",
                    "name": "stdout"
                }
            ],
            "metadata": {
            },
            "execution_count": 1,
            "cell_type": "code"
        },
        {
            "source": [
                "#### 1.  Heaps\n\n"
            ],
            "metadata": {
            },
            "cell_type": "markdown"
        },
        {
            "source": [
                "##### Mechanics\n\n"
            ],
            "metadata": {
            },
            "cell_type": "markdown"
        },
        {
            "source": [
                "-   see notes\n\n"
            ],
            "metadata": {
            },
            "cell_type": "markdown"
        },
        {
            "source": [
                "##### Implementation\n\n"
            ],
            "metadata": {
            },
            "cell_type": "markdown"
        },
        {
            "source": [
                "class Heap:\n    def __init__(self):\n        self.data = []\n\n    @staticmethod\n    def parent(n):\n        return (n - 1) // 2\n\n    @staticmethod\n    def left_child(n):\n        return 2 * n + 1\n\n    @staticmethod\n    def right_child(n):\n        return 2 * n + 2\n\n    def pos_exists(self, n):\n        return n < len(self)\n\n    def switch_node(self, parent, child):\n        parentval = self.data[parent]\n        childval = self.data[child]\n        self.data[parent] = childval\n        self.data[child] = parentval\n\n    def trickle_down(self, n):\n        lc = Heap.left_child(n)\n        rc = Heap.right_child(n)\n        curval = self.data[n]\n        #print(f\" pos={n}:{curval} with heap {self}\")\n        if self.pos_exists(lc):\n            if self.pos_exists(rc):\n                lcval = self.data[lc]\n                rcval = self.data[rc]\n                #print(f\"node {n}:{curval} with left: {lc}:{lcval} and  right: {rc}:{rcval}\")\n                if lcval > curval or rcval > curval:\n                    if lcval > rcval:\n                        #print(\"switch with left\")\n                        self.switch_node(n, lc)\n                        self.trickle_down(lc)\n                    else:\n                        #print(\"switch with right\")\n                        self.switch_node(n, rc)\n                        self.trickle_down(rc)\n            else:\n                lcval = self.data[lc]\n                #print(f\"node {n}:{curval} with left: {lc}:{lcval}\")\n                if lcval > curval:\n                    #print(\"switch with left\")\n                    self.switch_node(n, lc)\n                    self.trickle_down(lc)\n\n    def trickle_up(self, n):\n        if n > 0:\n            p = Heap.parent(n)\n            pval = self.data[p]\n            curval = self.data[n]\n            if pval < curval:\n                self.switch_node(p,n)\n                self.trickle_up(p)\n\n    def add(self, x):\n        self.data.append(x)\n        self.trickle_up(len(self.data) - 1)\n\n    def max(self):\n        self.data[0]\n\n    def pop_max(self):\n        m = self.data[0]\n        self.data[0] = self.data[-1]\n        del self.data[-1]\n        if len(self.data) > 0:\n            self.trickle_down(0)\n        return m\n\n    def check_heap(self, pos):\n        v = self.data[pos]\n        lc = Heap.left_child(pos)\n        rc = Heap.right_child(pos)\n        #print(f\"check {pos} of {len(self)} -> [{lc},{rc}]\")\n        if self.pos_exists(lc):\n            lv = self.data[lc]\n            if v < lv:\n                #print(f\"left child is {lv} of node with {v}@{pos}\")\n                return False\n            self.check_heap(lc)\n        if self.pos_exists(rc):\n            rv = self.data[rc]\n            if v < rv:\n                #print(f\"right child is {rv} of node with {v}@{pos}\")\n                return False\n            self.check_heap(rc)\n        return True\n\n    def __bool__(self):\n        return len(self.data) > 0\n\n    def __len__(self):\n        return len(self.data)\n\n    def __repr__(self):\n        return repr(self.data)"
            ],
            "outputs": [
                {
                    "text": "# Out[316]:",
                    "output_type": "stream",
                    "name": "stdout"
                }
            ],
            "metadata": {
            },
            "execution_count": 1,
            "cell_type": "code"
        },
        {
            "source": [
                "import random\nfor _ in range(10):\n    h = Heap()\n    for _ in range(10):\n        h.add(random.randrange(100))"
            ],
            "outputs": [],
            "metadata": {
            },
            "execution_count": 1,
            "cell_type": "code"
        },
        {
            "source": [
                "h"
            ],
            "outputs": [
                {
                    "text": "# Out[318]:\n[88, 72, 68, 63, 65, 40, 1, 31, 5, 45]",
                    "output_type": "stream",
                    "name": "stdout"
                }
            ],
            "metadata": {
            },
            "execution_count": 1,
            "cell_type": "code"
        },
        {
            "source": [
                "-   inserting all elements of a list and then popping all elements returns the elements in reverse order\n\n"
            ],
            "metadata": {
            },
            "cell_type": "markdown"
        },
        {
            "source": [
                "h = Heap()\nfor _ in range(10):\n    h.add(random.randrange(100))\nwhile h:\n    print(h.pop_max())"
            ],
            "outputs": [
                {
                    "text": "79\n73\n69\n43\n35\n33\n20\n19\n11\n3",
                    "output_type": "stream",
                    "name": "stdout"
                }
            ],
            "metadata": {
            },
            "execution_count": 1,
            "cell_type": "code"
        },
        {
            "source": [
                "-   we can use this to sort a list:\n\n"
            ],
            "metadata": {
            },
            "cell_type": "markdown"
        },
        {
            "source": [
                "h = Heap()\nl = [4,2,7,16,254,43,34,23]\nfor i in l:\n    h.add(i)\ns = [None] * len(l)\nfor i in range(-1, -1 * len(l) - 1, -1):\n    s[i] = h.pop_max()\ns"
            ],
            "outputs": [
                {
                    "text": "# Out[320]:\n[2, 4, 7, 16, 23, 34, 43, 254]",
                    "output_type": "stream",
                    "name": "stdout"
                }
            ],
            "metadata": {
            },
            "execution_count": 1,
            "cell_type": "code"
        },
        {
            "source": [
                "##### Run-time Analysis\n\n"
            ],
            "metadata": {
            },
            "cell_type": "markdown"
        },
        {
            "source": [
                "-   **max** - `O(1)`\n-   **add** - `O(log n)` (height of a full binary tree is `log(n)`)\n-   **pop<sub>max</sub>** - `O(log n)` (height of a full binary tree is `log(n)`)\n\n"
            ],
            "metadata": {
            },
            "cell_type": "markdown"
        },
        {
            "source": [
                "#### 1.  Heapsort\n\n"
            ],
            "metadata": {
            },
            "cell_type": "markdown"
        },
        {
            "source": [
                "-   use a heap for sorting as discussed above\n\n"
            ],
            "metadata": {
            },
            "cell_type": "markdown"
        },
        {
            "source": [
                "def heapsort(iterable):\n    heap = Heap()\n    for i in iterable:\n        heap.add(i)\n    s = [None] * len(heap)\n    for i in range(-1, -1 * len(s) - 1, -1):\n        s[i] = heap.pop_max()\n    return s"
            ],
            "outputs": [
                {
                    "text": "# Out[16]:",
                    "output_type": "stream",
                    "name": "stdout"
                }
            ],
            "metadata": {
            },
            "execution_count": 1,
            "cell_type": "code"
        },
        {
            "source": [
                "import random\n\ndef pairs(iterable):\n    it = iter(iterable)\n    a = next(it)\n    try:\n        while True:\n            b = next(it)\n            yield a,b\n            a = b\n    except:\n        pass\n\nlst = heapsort(random.random() for _ in range(1000))\nprint(all((a <= b) for a, b in pairs(lst)))"
            ],
            "outputs": [
                {
                    "text": "True",
                    "output_type": "stream",
                    "name": "stdout"
                }
            ],
            "metadata": {
            },
            "execution_count": 1,
            "cell_type": "code"
        },
        {
            "source": [
                "import timeit\ndef time_heapsort(n):\n    return timeit.timeit('heapsort(rlst)',\n                           'from __main__ import heapsort; '\n                           'import random; '\n                           'rlst = (random.random() for _ in range({}))'.format(n),\n                           number=1000)"
            ],
            "outputs": [
                {
                    "text": "# Out[22]:",
                    "output_type": "stream",
                    "name": "stdout"
                }
            ],
            "metadata": {
            },
            "execution_count": 1,
            "cell_type": "code"
        },
        {
            "source": [
                "%matplotlib inline\nimport matplotlib.pyplot as plt\nimport numpy as np\n\nns = np.linspace(100, 10000, 50, dtype=np.int_)\nplt.plot(ns, [time_heapsort(n) for n in ns], 'r+')\nplt.show()"
            ],
            "outputs": [
                {
                    "text": "# Out[23]:",
                    "output_type": "stream",
                    "name": "stdout"
                },
                {
                    "output_type": "display_data",
                    "metadata": {
                    },
                    "data": {
                        "text/plain": "<matplotlib.figure.Figure>",
                        "image/png": "[encoded data removed]"
                    }
                }
            ],
            "metadata": {
            },
            "execution_count": 1,
            "cell_type": "code"
        },
        {
            "source": [
                "%matplotlib inline\nimport matplotlib.pyplot as plt\nimport numpy as np\n\nns = np.linspace(100, 10000, 50, dtype=np.int_)\nplt.plot(ns, [time_heapsort(n) for n in ns], 'r+')\nplt.plot(ns, ns*np.log2(ns)*0.01/10000, 'b') # O(n log n) plot\nplt.show()"
            ],
            "outputs": [
                {
                    "text": "# Out[24]:",
                    "output_type": "stream",
                    "name": "stdout"
                },
                {
                    "output_type": "display_data",
                    "metadata": {
                    },
                    "data": {
                        "text/plain": "<matplotlib.figure.Figure>",
                        "image/png": "[encoded data removed]"
                    }
                }
            ],
            "metadata": {
            },
            "execution_count": 1,
            "cell_type": "code"
        },
        {
            "source": [
                "##### heapsort in place\n\n"
            ],
            "metadata": {
            },
            "cell_type": "markdown"
        },
        {
            "source": [
                "-   build the heap bottom up:\n    -   the last element is a heap\n    -   until the whole array is a heap:\n        -   expand the heap by one element to the left\n        -   this element is the new root and we use `trickle_down` (`sift_down`) to restore the heap property\n    -   then until the heap is empty, remove the root of the heap (`pop_max`) at place it one element beyond the end of the current heap\n\n"
            ],
            "metadata": {
            },
            "cell_type": "markdown"
        },
        {
            "source": [
                "def swap(lst,l,r):\n    lst[l], lst[r] = lst[r], lst[l]\n\ndef heapsort_inplace(lst):\n    heapify(lst)\n    print(f\"\\nfinal heap: {lst}\\n\")\n    for i in range(len(lst) -1, -1, -1):\n        swap(lst,i,0)\n        sift_down(lst,0,i-1)\n        print(f\"pop and insert at {i}: heap: {lst[0:i]} sorted suffix {lst[i:len(lst)]}\")\n\n\ndef heapify(lst):\n    for i in range(len(lst) -1,-1,-1):\n        sift_down(lst,i,len(lst) - 1)\n        print(f\"heapified {i} to {len(lst) - 1}: {lst[0:i]} * {lst[i:len(lst)]}\")\n\ndef sift_down(lst,start,end):\n    root = start\n\n    while Heap.left_child(root) <= end:\n        child = Heap.left_child(root)\n        swp = root\n\n        if lst[swp] < lst[child]: # left child larger\n            swp = child\n        if child+1 <= end and lst[swp] < lst[child+1]: # right child larger than left or root\n            swp = child + 1\n        if root == swp:\n            return\n        swap(lst,root,swp)\n        root = swp"
            ],
            "outputs": [
                {
                    "text": ":results:\n   # Out[334]:\n   :end:",
                    "output_type": "stream",
                    "name": "stdout"
                }
            ],
            "metadata": {
            },
            "execution_count": 1,
            "cell_type": "code"
        },
        {
            "source": [
                "l = [5,123,54,1,23,4,5123,99,123,432,555]\nheapsort_inplace(l)\nprint(f\"\\nsorted results: {l}\")"
            ],
            "outputs": [
                {
                    "text": ":results:\n   heapified 10 to 10: [5, 123, 54, 1, 23, 4, 5123, 99, 123, 432] * [555]\n   heapified 9 to 10: [5, 123, 54, 1, 23, 4, 5123, 99, 123] * [432, 555]\n   heapified 8 to 10: [5, 123, 54, 1, 23, 4, 5123, 99] * [123, 432, 555]\n   heapified 7 to 10: [5, 123, 54, 1, 23, 4, 5123] * [99, 123, 432, 555]\n   heapified 6 to 10: [5, 123, 54, 1, 23, 4] * [5123, 99, 123, 432, 555]\n   heapified 5 to 10: [5, 123, 54, 1, 23] * [4, 5123, 99, 123, 432, 555]\n   heapified 4 to 10: [5, 123, 54, 1] * [555, 4, 5123, 99, 123, 432, 23]\n   heapified 3 to 10: [5, 123, 54] * [123, 555, 4, 5123, 99, 1, 432, 23]\n   heapified 2 to 10: [5, 123] * [5123, 123, 555, 4, 54, 99, 1, 432, 23]\n   heapified 1 to 10: [5] * [555, 5123, 123, 432, 4, 54, 99, 1, 123, 23]\n   heapified 0 to 10: [] * [5123, 555, 54, 123, 432, 4, 5, 99, 1, 123, 23]\n\n   final heap: [5123, 555, 54, 123, 432, 4, 5, 99, 1, 123, 23]\n\n   pop and insert at 10: heap: [555, 432, 54, 123, 123, 4, 5, 99, 1, 23] sorted suffix [5123]\n   pop and insert at 9: heap: [432, 123, 54, 99, 123, 4, 5, 23, 1] sorted suffix [555, 5123]\n   pop and insert at 8: heap: [123, 123, 54, 99, 1, 4, 5, 23] sorted suffix [432, 555, 5123]\n   pop and insert at 7: heap: [123, 99, 54, 23, 1, 4, 5] sorted suffix [123, 432, 555, 5123]\n   pop and insert at 6: heap: [99, 23, 54, 5, 1, 4] sorted suffix [123, 123, 432, 555, 5123]\n   pop and insert at 5: heap: [54, 23, 4, 5, 1] sorted suffix [99, 123, 123, 432, 555, 5123]\n   pop and insert at 4: heap: [23, 5, 4, 1] sorted suffix [54, 99, 123, 123, 432, 555, 5123]\n   pop and insert at 3: heap: [5, 1, 4] sorted suffix [23, 54, 99, 123, 123, 432, 555, 5123]\n   pop and insert at 2: heap: [4, 1] sorted suffix [5, 23, 54, 99, 123, 123, 432, 555, 5123]\n   pop and insert at 1: heap: [1] sorted suffix [4, 5, 23, 54, 99, 123, 123, 432, 555, 5123]\n   pop and insert at 0: heap: [] sorted suffix [1, 4, 5, 23, 54, 99, 123, 123, 432, 555, 5123]\n\n   sorted results: [1, 4, 5, 23, 54, 99, 123, 123, 432, 555, 5123]\n   :end:",
                    "output_type": "stream",
                    "name": "stdout"
                }
            ],
            "metadata": {
            },
            "execution_count": 1,
            "cell_type": "code"
        }
    ]
}
