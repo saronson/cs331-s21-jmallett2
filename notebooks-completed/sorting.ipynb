{
    "nbformat_minor": 0,
    "nbformat": 4,
    "metadata": {
        "language_info": {
            "version": "3.5.2",
            "pygments_lexer": "ipython3",
            "nbconvert_exporter": "python",
            "name": "python",
            "mimetype": "text/x-python",
            "file_extension": ".py",
            "codemirror_mode": {
                "version": 3,
                "name": "ipython"
            }
        },
        "kernelspec": {
            "name": "python3",
            "language": "python",
            "display_name": "Python 3"
        },
        "org": null
    },
    "cells": [
        {
            "source": [
                "### Sorting:PROPERTIES:\n\n"
            ],
            "metadata": {
            },
            "cell_type": "markdown"
        },
        {
            "source": [
                "#### Agenda\n\n"
            ],
            "metadata": {
            },
            "cell_type": "markdown"
        },
        {
            "source": [
                "We will now discuss two additional sorting algorithms. For your convenience this notebook also contains all other sorting methods we have discussed so far.\n\n-   We will introduce a divide-and-conquer based sorting algorithm called **quick sort** that has average case $O(n \\log n)$ runtime, but can degrade to $O(n^2)$ runtime.\n-   We will then discuss **merge sort**, a sorting algorithm with guaranteed $O(n \\log n)$ worst-case runtime. This algorithm is also based on a divide-and-conquer paradigm.\n\n"
            ],
            "metadata": {
            },
            "cell_type": "markdown"
        },
        {
            "source": [
                "#### Bubble sort\n\n"
            ],
            "metadata": {
            },
            "cell_type": "markdown"
        },
        {
            "source": [
                "def bubble_sort(lst): # n = len(lst) => O(n^2)\n    for i in range(1,len(lst)):          # n - 1\n        for j in range(0,len(lst) - i):  # sum(i)\n            if lst[j] > lst[j+1]:        # sum(i)\n                lst[j], lst[j+1] = lst[j+1], lst[j] # sum(i)"
            ],
            "outputs": [
                {
                    "text": ":results:\n     # Out[154]:\n     :end:",
                    "output_type": "stream",
                    "name": "stdout"
                }
            ],
            "metadata": {
            },
            "execution_count": 1,
            "cell_type": "code"
        },
        {
            "source": [
                "l = [ 1, 6, 5, 2, 4 ]\nbubble_sort(l)\nl"
            ],
            "outputs": [
                {
                    "text": ":results:\n # Out[155]:\n : [1, 2, 4, 5, 6]\n :end:",
                    "output_type": "stream",
                    "name": "stdout"
                }
            ],
            "metadata": {
            },
            "execution_count": 1,
            "cell_type": "code"
        },
        {
            "source": [
                "#### Insertion sort\n\n"
            ],
            "metadata": {
            },
            "cell_type": "markdown"
        },
        {
            "source": [
                "-   **Task**: to sort the values in a given list (array) in ascending order.\n\n"
            ],
            "metadata": {
            },
            "cell_type": "markdown"
        },
        {
            "source": [
                "import random\nlst = list(range(1000))\nrandom.shuffle(lst)"
            ],
            "outputs": [
                {
                    "text": ":results:\n # Out[116]:\n :end:",
                    "output_type": "stream",
                    "name": "stdout"
                }
            ],
            "metadata": {
            },
            "execution_count": 1,
            "cell_type": "code"
        },
        {
            "source": [
                "def insertion_sort(lst):\n    for i in range(1,len(lst)): # number of times? n-1\n        for j in range(i,0,-1): # number 1, 2, 3, 4, ..., n-1\n            if lst[j] <= lst[j-1]:\n                lst[j-1], lst[j] = lst[j], lst[j-1]\n            else:\n                break"
            ],
            "outputs": [
                {
                    "text": ":results:\n # Out[118]:\n :end:",
                    "output_type": "stream",
                    "name": "stdout"
                }
            ],
            "metadata": {
            },
            "execution_count": 1,
            "cell_type": "code"
        },
        {
            "source": [
                "insertion_sort(lst)"
            ],
            "outputs": [
                {
                    "text": ":results:\n # Out[119]:\n :end:",
                    "output_type": "stream",
                    "name": "stdout"
                }
            ],
            "metadata": {
            },
            "execution_count": 1,
            "cell_type": "code"
        },
        {
            "source": [
                "#### Heap sort\n\n"
            ],
            "metadata": {
            },
            "cell_type": "markdown"
        },
        {
            "source": [
                "def swap(lst,l,r):\n    lst[l], lst[r] = lst[r], lst[l]\n\ndef heapsort_inplace(lst):\n    heapify(lst)\n    print(f\"\\nfinal heap: {lst}\\n\")\n    for i in range(len(lst) -1, -1, -1):\n        swap(lst,i,0)\n        sift_down(lst,0,i-1)\n        print(f\"pop and insert at {i}: heap: {lst[0:i]} sorted suffix {lst[i:len(lst)]}\")\n\n\ndef heapify(lst):\n    for i in range(len(lst) -1,-1,-1):\n        sift_down(lst,i,len(lst) - 1)\n        print(f\"heapified {i} to {len(lst) - 1}: {lst[0:i]} * {lst[i:len(lst)]}\")\n\ndef sift_down(lst,start,end):\n    root = start\n\n    while Heap.left_child(root) <= end:\n        child = Heap.left_child(root)\n        swp = root\n\n        if lst[swp] < lst[child]: # left child larger\n            swp = child\n        if child+1 <= end and lst[swp] < lst[child+1]: # right child larger than left or root\n            swp = child + 1\n        if root == swp:\n            return\n        swap(lst,root,swp)\n        root = swp"
            ],
            "outputs": [],
            "metadata": {
            },
            "execution_count": 1,
            "cell_type": "code"
        },
        {
            "source": [
                "#### Quick sort\n\n"
            ],
            "metadata": {
            },
            "cell_type": "markdown"
        },
        {
            "source": [
                "##### Algorithm\n\n"
            ],
            "metadata": {
            },
            "cell_type": "markdown"
        },
        {
            "source": [
                "###### Partitioning a list on a pivot element\n\n"
            ],
            "metadata": {
            },
            "cell_type": "markdown"
        },
        {
            "source": [
                "Consider an operations called partition that takes an element of a list `lst` called a `pivot` and divides the list into two parts: all elements that are smaller than the `pivot` and all elements that are larger than or equal to `pivot`. We can implement partition in-place like this:\n\n"
            ],
            "metadata": {
            },
            "cell_type": "markdown"
        },
        {
            "source": [
                "def partition_somewhere(lst):\n    pivotpos = -1\n    pivot = lst[pivotpos]\n    i = 0\n    high = len(lst) - 1\n    for j in range(high):\n        if lst[j] < pivot:\n            lst[i], lst[j] = lst[j], lst[i]\n            i = i + 1\n    lst[i], lst[high] = lst[high], lst[i] # make pivot middle element\n    return i"
            ],
            "outputs": [
                {
                    "text": ":results:\n # Out[83]:\n :end:",
                    "output_type": "stream",
                    "name": "stdout"
                }
            ],
            "metadata": {
            },
            "execution_count": 1,
            "cell_type": "code"
        },
        {
            "source": [
                "lst = [1,4,2,15,3,9,12]\nprint(f\"pivot element is {lst[-1]}\")\nsplit = partition_somewhere(lst) # pivot on 9\nstrlst = \"[\"\nfor i in range(len(lst)):\n    if i == split:\n        strlst += f\"] {lst[i]} [\"\n    else:\n        strlst += f\"{lst[i]}\"\n        strlst += \", \" if i < len(lst) - 1 and i != split -1 else \"\"\nstrlst += \"]\"\nprint(strlst)\nprint(lst)"
            ],
            "outputs": [
                {
                    "text": ":results:\n pivot element is 12\n [1, 4, 2, 3, 9] 12 [15]\n [1, 4, 2, 3, 9, 12, 15]\n :end:",
                    "output_type": "stream",
                    "name": "stdout"
                }
            ],
            "metadata": {
            },
            "execution_count": 1,
            "cell_type": "code"
        },
        {
            "source": [
                "###### Divide-and-conquer strategy of quick sort\n\n"
            ],
            "metadata": {
            },
            "cell_type": "markdown"
        },
        {
            "source": [
                "Once we have partitioned a list on a pivot, then we can recursively partition the parts of the list. Note that any list of size one is trivially sorted.\n\n"
            ],
            "metadata": {
            },
            "cell_type": "markdown"
        },
        {
            "source": [
                "##### Implementation\n\n"
            ],
            "metadata": {
            },
            "cell_type": "markdown"
        },
        {
            "source": [
                "def quicksort(lst):\n    qsort(lst,0,len(lst) - 1)\n\ndef qsort(lst,low,high):\n    if low < high:\n        p = partition(lst,low,high)\n        qsort(lst,low,p-1)\n        qsort(lst,p+1,high)\n\ndef partition(lst,low,high):\n    pivot = lst[high]\n    i = low\n    for j in range(low,high):\n        if lst[j] < pivot:\n            lst[i], lst[j] = lst[j], lst[i]\n            i = i + 1\n    lst[i], lst[high] = lst[high], lst[i]\n    return i"
            ],
            "outputs": [
                {
                    "text": ":results:\n    # Out[88]:\n    :end:",
                    "output_type": "stream",
                    "name": "stdout"
                }
            ],
            "metadata": {
            },
            "execution_count": 1,
            "cell_type": "code"
        },
        {
            "source": [
                "lst = [4,3,5,10,2,9,8,7]\nquicksort(lst)\nprint(lst)"
            ],
            "outputs": [
                {
                    "text": ":results:\n    [2, 3, 4, 5, 7, 8, 9, 10]\n    :end:",
                    "output_type": "stream",
                    "name": "stdout"
                }
            ],
            "metadata": {
            },
            "execution_count": 1,
            "cell_type": "code"
        },
        {
            "source": [
                "#### Merge sort\n\n"
            ],
            "metadata": {
            },
            "cell_type": "markdown"
        },
        {
            "source": [
                "##### Algorithm\n\n"
            ],
            "metadata": {
            },
            "cell_type": "markdown"
        },
        {
            "source": [
                "###### Merging sorted lists\n\n"
            ],
            "metadata": {
            },
            "cell_type": "markdown"
        },
        {
            "source": [
                "Given two sorted lists `l1` and `l2`, we can *merge* them into a longer sorted list by iterating through both lists in parallel keeping an index `i` for `l1` and an index `j` for `l2`. If `l1[i] < l2[j]`, then `l1[i]` is appended to the result and `i` is increased by one. Otherwise, `l2[j]` is appended to the result and `j` is increased by one. Once we reach the end of one of the lists, then remaining elements of the other list have to be appended to the result.\n\n"
            ],
            "metadata": {
            },
            "cell_type": "markdown"
        },
        {
            "source": [
                "def merge(l,r):\n    result = []\n    i = 0\n    j = 0\n    while i < len(l) and j < len(r):\n        if l[i] < r[j]:\n            result.append(l[i])\n            i += 1\n        else:\n            result.append(r[j])\n            j += 1\n    while i < len(l):\n        result.append(l[i])\n        i += 1\n    while j < len(r):\n        result.append(r[j])\n        j += 1\n    return result"
            ],
            "outputs": [
                {
                    "text": "# Out[90]:",
                    "output_type": "stream",
                    "name": "stdout"
                }
            ],
            "metadata": {
            },
            "execution_count": 1,
            "cell_type": "code"
        },
        {
            "source": [
                "l1 = [1, 4, 5, 10, 12]\nl2 = [2, 6, 8, 9, 16, 22]\nmerge(l1,l2)"
            ],
            "outputs": [
                {
                    "text": "# Out[91]:\n[1, 2, 4, 5, 6, 8, 9, 10, 12, 16, 22]",
                    "output_type": "stream",
                    "name": "stdout"
                }
            ],
            "metadata": {
            },
            "execution_count": 1,
            "cell_type": "code"
        },
        {
            "source": [
                "Note that in each loop iteration either `i` or `j` is increased by one. Thus, if we use `n` to denote the length of the resulting list, then this algorithm is in $O(n \\log n)$.\n\n"
            ],
            "metadata": {
            },
            "cell_type": "markdown"
        },
        {
            "source": [
                "###### The divide-and-conquer strategy of merge sort\n\n"
            ],
            "metadata": {
            },
            "cell_type": "markdown"
        },
        {
            "source": [
                "To sort any list of length `n`, we can split it in the middle to get two lists of length `n/2`. Then we recursively sort these two lists and merge them into a sorted list of length `n`. Since any list of length `1` is trivially sorted, the recursion will stop once the two lists are of length `1`.\n\n"
            ],
            "metadata": {
            },
            "cell_type": "markdown"
        },
        {
            "source": [
                "##### Implementation\n\n"
            ],
            "metadata": {
            },
            "cell_type": "markdown"
        },
        {
            "source": [
                "def merge(l,r):\n    result = []\n    i = 0\n    j = 0\n    while i < len(l) and j < len(r):\n        if l[i] < r[j]:\n            result.append(l[i])\n            i += 1\n        else:\n            result.append(r[j])\n            j += 1\n    while i < len(l):\n        result.append(l[i])\n        i += 1\n    while j < len(r):\n        result.append(r[j])\n        j += 1\n    return result\n\ndef mergesort(lst):\n    def msort(lst,low,high):\n        if low < high:\n            mid = (high + low) // 2\n            left = msort(lst,low,mid)\n            right = msort(lst,mid+1,high)\n            return merge(left,right)\n        else:\n            return [lst[low]]\n\n    return msort(lst,0,len(lst)-1)"
            ],
            "outputs": [
                {
                    "text": ":results:\n    # Out[92]:\n    :end:",
                    "output_type": "stream",
                    "name": "stdout"
                }
            ],
            "metadata": {
            },
            "execution_count": 1,
            "cell_type": "code"
        },
        {
            "source": [
                "lst = [4,3,5,10,2,9,8,7]\nresult = mergesort(lst)\nprint(result)"
            ],
            "outputs": [
                {
                    "text": ":results:\n    [2, 3, 4, 5, 7, 8, 9, 10]\n    :end:",
                    "output_type": "stream",
                    "name": "stdout"
                }
            ],
            "metadata": {
            },
            "execution_count": 1,
            "cell_type": "code"
        },
        {
            "source": [
                "##### Runtime analysis\n\n"
            ],
            "metadata": {
            },
            "cell_type": "markdown"
        },
        {
            "source": [
                "Merging of 2 lists of length `n` takes `2n` time. In each recursive call we divide the length of the list to be sorted by a factor of two.\n\n-   to sort a list of length `n` we sort two lists of length `n/2`\n-   for each of these we sort two lists of length `n/4`, and so on\n\nAfter $O(\\log n)$ steps, the length of the list to be are sorted is $1$ and any $1$ element list is trivially sorted.\nLet us reorganize the subproblems by the lengths of lists they have to merge:\n\n-   $2 * n/2 = n$\n-   $4 * n/4 = n$\n-   $8 * n/8 = n$\n\n&#x2026;\n\n-   $n * 1 = n$\n\n$$\n\\sum_{i=1}^{\\log n} 2^{i} * \\frac{n}{2^{i}} = \\sum_{i=1}^{\\log n} n = n \\log n\n$$\n\n"
            ],
            "metadata": {
            },
            "cell_type": "markdown"
        },
        {
            "source": [
                "#### Counting sort\n\n"
            ],
            "metadata": {
            },
            "cell_type": "markdown"
        },
        {
            "source": [
                "If the domain of elements that appear in the input list is small (`m` elements), then we can just maintain a count to record in an array of size `m`  how often each possible element appears in the list. This can be done by one pass over the list as shown below. Given, the counts we just iterate over the array and output a number of copies of the element at the current position that is equal to the count.\n\n"
            ],
            "metadata": {
            },
            "cell_type": "markdown"
        },
        {
            "source": [
                "print(ord('a'))\nprint(chr(ord('a')))"
            ],
            "outputs": [
                {
                    "text": ":results:\n 97\n a\n :end:",
                    "output_type": "stream",
                    "name": "stdout"
                }
            ],
            "metadata": {
            },
            "execution_count": 1,
            "cell_type": "code"
        },
        {
            "source": [
                "def counting_sort(lst):\n    h = { }\n    for i in range(256):\n        h[i] = 0\n    for i in s:\n        h[i] += 1\n\n    result = []\n    for i in range(0,255):\n        for j in range(h[i]):\n            result.append(i)\n\n    return result"
            ],
            "outputs": [
                {
                    "text": "# Out[104]:",
                    "output_type": "stream",
                    "name": "stdout"
                }
            ],
            "metadata": {
            },
            "execution_count": 1,
            "cell_type": "code"
        },
        {
            "source": [
                "s = [ i for i in b\"asdubhiabusaaaasdkjasdksjnqdadsfjhabdsfadhjsfb\" ]\nresult = counting_sort(s)\n''.join([ chr(i) for i in result ])"
            ],
            "outputs": [
                {
                    "text": "# Out[112]:\n'aaaaaaaaaabbbbdddddddfffhhhijjjjkknqssssssssuu'",
                    "output_type": "stream",
                    "name": "stdout"
                }
            ],
            "metadata": {
            },
            "execution_count": 1,
            "cell_type": "code"
        },
        {
            "source": [
                "#### Runtime comparison of sorting algorithms\n\n"
            ],
            "metadata": {
            },
            "cell_type": "markdown"
        },
        {
            "source": [
                "| algorithm|worst-case runtime|average case runtime|\n|---|---|---|\n| Bubble sort|$O(n^2)$|$O(n^2)$|\n| Insertion sort|$O(n^2)$|$O(n^2)$|\n| Heap sort|$O(n \\log n)$|$O(n \\log n)$|\n| Quick sort|$O(n^2)$|$O(n \\log n)$|\n| Merge sort|$O(n^2)$|$O(n^2)$|\n| Counting sort|$O(n)$|$O(n)$|\n\nNote that, however, counting sort needs $O(m)$ memory where $m$ is the size of the domain of elements, e.g., for 64-bit integers there are $2^{64} = 18,446,744,073,709,551,616$ elements in the domain. Also to address these elements in an array we need $O(\\log m)$ time.\n\n"
            ],
            "metadata": {
            },
            "cell_type": "markdown"
        }
    ]
}
