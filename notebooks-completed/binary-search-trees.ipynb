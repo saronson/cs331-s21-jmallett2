{
    "nbformat_minor": 0,
    "nbformat": 4,
    "metadata": {
        "language_info": {
            "version": "3.5.2",
            "pygments_lexer": "ipython3",
            "nbconvert_exporter": "python",
            "name": "python",
            "mimetype": "text/x-python",
            "file_extension": ".py",
            "codemirror_mode": {
                "version": 3,
                "name": "ipython"
            }
        },
        "kernelspec": {
            "name": "python3",
            "language": "python",
            "display_name": "Python 3"
        },
        "org": null
    },
    "cells": [
        {
            "source": [
                "#### The Binary Search Tree (BSTree) data structure:PROPERTIES:\n\n"
            ],
            "metadata": {
            },
            "cell_type": "markdown"
        },
        {
            "source": [
                "##### Agenda\n\n"
            ],
            "metadata": {
            },
            "cell_type": "markdown"
        },
        {
            "source": [
                "-   Binary Trees & Binary Search Trees: definitions\n-   Linked tree structure and Manual construction\n-   Recursive binary search tree functions\n\n"
            ],
            "metadata": {
            },
            "cell_type": "markdown"
        },
        {
            "source": [
                "##### Binary Tree: def\n\n"
            ],
            "metadata": {
            },
            "cell_type": "markdown"
        },
        {
            "source": [
                "-   A *binary tree* is a structure that is either empty, or consists of a\n    *root* node containing a value and references to a left and right\n    *sub-tree*, which are themselves binary trees.\n\nNaming nodes:\n\n-   The single node in a binary tree without a parent is the root node of\n    the tree\n-   We say that a given node is the *parent* of its left and right *child*\n    nodes; nodes with the same parent are called *siblings*\n-   If a node has no children we call it a *leaf* node; otherwise, we call\n    it an *internal* node\n\nBinary tree metrics (note: alternative defs are sometimes used!):\n\n-   The *depth* of a node is the number of nodes from the root of the tree\n    to that node (inclusive)\n-   The *height* of a node is the number of nodes on the longest path from\n    that node down to a leaf (inclusive)\n\nCategorizing binary trees:\n\n-   A *complete* binary tree is one where all but the last level are\n    filled, and in the last level leaves are as far to the left as\n    possible\n-   A *perfect* binary tree is one where all internal nodes have 2\n    children, and all leaves have the same depth\n-   A *balanced* binary tree is &#x2026; ?\n\n"
            ],
            "metadata": {
            },
            "cell_type": "markdown"
        },
        {
            "source": [
                "##### Binary Search Tree (BSTree): def\n\n"
            ],
            "metadata": {
            },
            "cell_type": "markdown"
        },
        {
            "source": [
                "-   A *binary search tree* is a binary tree where the value contained in\n    every node is:\n    -   *greater than* all keys in its left subtree, and\n    -   *less than* all keys in its right subtree\n\n"
            ],
            "metadata": {
            },
            "cell_type": "markdown"
        },
        {
            "source": [
                "##### Linked tree structure and Manual construction:\n\n"
            ],
            "metadata": {
            },
            "cell_type": "markdown"
        },
        {
            "source": [
                "class Node:\n\n    def __init__(self, val, left=None, right=None):\n        self.val = val\n        self.left = left\n        self.right = right\n\n    def __repr__(self):\n        def str_rec(t,depth):\n            if not t:\n                return \"\"\n            else:\n                return ((\"---\" * depth)\n                        + str(t.val)\n                        + \"\\n\" + str_rec(t.left, depth + 1)\n                        + str_rec(t.right, depth + 1))\n\n        return str_rec(self, 0)"
            ],
            "outputs": [
                {
                    "text": "# Out[108]:",
                    "output_type": "stream",
                    "name": "stdout"
                }
            ],
            "metadata": {
            },
            "execution_count": 1,
            "cell_type": "code"
        },
        {
            "source": [
                "##### Recursive bstree functions\n\n"
            ],
            "metadata": {
            },
            "cell_type": "markdown"
        },
        {
            "source": [
                "def tmin(t):\n    if not t.left:\n        return t.val\n    return tmin(t.left)"
            ],
            "outputs": [
                {
                    "text": "# Out[98]:",
                    "output_type": "stream",
                    "name": "stdout"
                }
            ],
            "metadata": {
            },
            "execution_count": 1,
            "cell_type": "code"
        },
        {
            "source": [
                "import sys\n\ndef max_with_none(*nums):\n    result = None\n    for n in nums:\n        if not result:\n            result = n\n        elif n:\n            result = max(result,n)\n    return result\n\ndef tmax(t: Node):\n    if not t:\n        return None\n    return max_with_none(t.val, tmax(t.left), tmax(t.right))\n\ndef tmaxbs(t: Node):\n    if not t.right:\n        return t.val\n    return tmax(t.right)"
            ],
            "outputs": [
                {
                    "text": "# Out[100]:",
                    "output_type": "stream",
                    "name": "stdout"
                }
            ],
            "metadata": {
            },
            "execution_count": 1,
            "cell_type": "code"
        },
        {
            "source": [
                "def find(t, x):\n    if not t:\n        return False\n    if t.val == x:\n        return True\n    if t.val > x:\n        return find(t.left, x)\n    if t.val < x:\n        return find(t.right, x)"
            ],
            "outputs": [
                {
                    "text": "# Out[99]:",
                    "output_type": "stream",
                    "name": "stdout"
                }
            ],
            "metadata": {
            },
            "execution_count": 1,
            "cell_type": "code"
        },
        {
            "source": [
                "import builtins\nmax = builtins.max\n\ndef height(t):\n    if not t:\n        return 0\n    return 1 + max([height(t.left), height(t.right)])"
            ],
            "outputs": [
                {
                    "text": "# Out[101]:",
                    "output_type": "stream",
                    "name": "stdout"
                }
            ],
            "metadata": {
            },
            "execution_count": 1,
            "cell_type": "code"
        },
        {
            "source": [
                "-   tree traversal (**depth-first traversal**)\n    -   **pre-order traversal**\n    -   **post-order traversal**\n    -   **in-order traversal**\n\n"
            ],
            "metadata": {
            },
            "cell_type": "markdown"
        },
        {
            "source": [
                "def traversal_pre(t): # traversal\n    if t:\n        print(t.val)\n        traversal_pre(t.left)\n        traversal_pre(t.right)\n\ndef traversal_post(t): # traversal\n    if t:\n        traversal_post(t.left)\n        traversal_post(t.right)\n        print(t.val)\n\ndef traversal_in(t): # traversal\n    if t:\n        traversal_in(t.left)\n        print(t.val)\n        traversal_in(t.right)"
            ],
            "outputs": [
                {
                    "text": "# Out[125]:",
                    "output_type": "stream",
                    "name": "stdout"
                }
            ],
            "metadata": {
            },
            "execution_count": 1,
            "cell_type": "code"
        },
        {
            "source": [
                "def mymap(t,f):\n    f(t.val)\n    if t.left:\n        mymap(t.left, f)\n    if t.right:\n        mymap(t.right, f)"
            ],
            "outputs": [
                {
                    "text": "# Out[127]:",
                    "output_type": "stream",
                    "name": "stdout"
                }
            ],
            "metadata": {
            },
            "execution_count": 1,
            "cell_type": "code"
        },
        {
            "source": [
                "myt = Node(3, Node(1), Node(5))\nmyt"
            ],
            "outputs": [
                {
                    "text": "# Out[109]:\n#+BEGIN_EXAMPLE\n  3\n  ---1\n  ---5\n#+END_EXAMPLE",
                    "output_type": "stream",
                    "name": "stdout"
                }
            ],
            "metadata": {
            },
            "execution_count": 1,
            "cell_type": "code"
        },
        {
            "source": [
                "myothert = Node(3, Node(2), Node(6, Node(4), Node(8)))\nmyothert"
            ],
            "outputs": [
                {
                    "text": "# Out[110]:\n#+BEGIN_EXAMPLE\n  3\n  ---2\n  ---6\n  ------4\n  ------8\n#+END_EXAMPLE",
                    "output_type": "stream",
                    "name": "stdout"
                }
            ],
            "metadata": {
            },
            "execution_count": 1,
            "cell_type": "code"
        },
        {
            "source": [
                "yetanothert = Node(4, Node(2, Node(1), Node(3)),\n                   Node(5, None, Node(15, Node(10), Node(20))))\nyetanothert"
            ],
            "outputs": [
                {
                    "text": "# Out[111]:\n#+BEGIN_EXAMPLE\n  4\n  ---2\n  ------1\n  ------3\n  ---5\n  ------15\n  ---------10\n  ---------20\n#+END_EXAMPLE",
                    "output_type": "stream",
                    "name": "stdout"
                }
            ],
            "metadata": {
            },
            "execution_count": 1,
            "cell_type": "code"
        },
        {
            "source": [
                "def print_tree_stats(t):\n    print(f\"height: {height(t)} max_value: {tmax(t)}:\\n{t}\")\n\nprint_tree_stats(myt)\nprint_tree_stats(myothert)\nprint_tree_stats(yetanothert)"
            ],
            "outputs": [
                {
                    "text": "height: 2 max_value: 5:\n3\n---1\n---5\n\nheight: 3 max_value: 8:\n3\n---2\n---6\n------4\n------8\n\nheight: 4 max_value: 20:\n4\n---2\n------1\n------3\n---5\n------15\n---------10\n---------20",
                    "output_type": "stream",
                    "name": "stdout"
                }
            ],
            "metadata": {
            },
            "execution_count": 1,
            "cell_type": "code"
        },
        {
            "source": [
                "-   pre-order traversal\n\n"
            ],
            "metadata": {
            },
            "cell_type": "markdown"
        },
        {
            "source": [
                "def traversal_somehow(f):\n    print(\"myt:\\n\")\n    f(myt)\n    print(\"myothert:\\n\")\n    f(myothert)\n    print(\"yetanothert:\\n\")\n    f(yetanothert)"
            ],
            "outputs": [],
            "metadata": {
            },
            "execution_count": 1,
            "cell_type": "code"
        },
        {
            "source": [
                "print(80 * \"-\" + \"\\npre-order\\n\")\ntraversal_somehow(traversal_pre)\nprint(80 * \"-\" + \"\\npost-order\\n\")\ntraversal_somehow(traversal_post)\nprint(80 * \"-\" + \"\\nin-order\\n\")\ntraversal_somehow(traversal_in)"
            ],
            "outputs": [
                {
                    "text": "--------------------------------------------------------------------------------\npre-order\n\nmyt:\n\n3\n1\n5\nmyothert:\n\n3\n2\n6\n4\n8\nyetanothert:\n\n4\n2\n1\n3\n5\n15\n10\n20\n--------------------------------------------------------------------------------\npost-order\n\nmyt:\n\n1\n5\n3\nmyothert:\n\n2\n4\n8\n6\n3\nyetanothert:\n\n1\n3\n2\n10\n20\n15\n5\n4\n--------------------------------------------------------------------------------\nin-order\n\nmyt:\n\n1\n3\n5\nmyothert:\n\n2\n3\n4\n6\n8\nyetanothert:\n\n1\n2\n3\n4\n5\n10\n15\n20",
                    "output_type": "stream",
                    "name": "stdout"
                }
            ],
            "metadata": {
            },
            "execution_count": 1,
            "cell_type": "code"
        },
        {
            "source": [
                "class summer:\n\n    def __init__(self):\n        self.sm = 0\n\n    def acc(self):\n        def insum(x):\n            self.sm += x\n        return insum\n\n    def get_sum(self):\n        sm\n\nx = summer()\nmymap(myt, x.acc())\nprint(f\"sum is: {x.sm}\")\nmymap(myt, lambda x: print(x+1))"
            ],
            "outputs": [
                {
                    "text": "sum is: 9\n4\n2\n6",
                    "output_type": "stream",
                    "name": "stdout"
                }
            ],
            "metadata": {
            },
            "execution_count": 1,
            "cell_type": "code"
        },
        {
            "source": [
                "print(f\"\"\"find 3: {find(myt, 3)}\nfind 5: {find(myt, 5)}\nfind 1: {find(myt, 1)}\nfind 2: {find(myt, 2)}\"\"\")"
            ],
            "outputs": [
                {
                    "text": "find 3: True\nfind 5: True\nfind 1: True\nfind 2: False",
                    "output_type": "stream",
                    "name": "stdout"
                }
            ],
            "metadata": {
            },
            "execution_count": 1,
            "cell_type": "code"
        },
        {
            "source": [
                "##### BSTree API and implementation\n\n"
            ],
            "metadata": {
            },
            "cell_type": "markdown"
        },
        {
            "source": [
                "-   **API**\n    -   Search\n    -   Addition\n    -   Removal\n    -   Iteration / Traversal\n\n"
            ],
            "metadata": {
            },
            "cell_type": "markdown"
        },
        {
            "source": [
                "##### API & Implementation\n\n"
            ],
            "metadata": {
            },
            "cell_type": "markdown"
        },
        {
            "source": [
                "class BSTree:\n    class Node:\n        def __init__(self, val, left=None, right=None):\n            self.val = val\n            self.left = left\n            self.right = right\n\n        @staticmethod\n        def max_with_none(*nums):\n            result = None\n            for n in nums:\n                if not result:\n                    result = n\n                elif n:\n                    result = max(result,n)\n            return result\n\n        def tmax(self):\n            if not self.right:\n                return self.val\n            return self.right.tmax()\n\n        def __repr__(self):\n            b = BSTree()\n            b.root = self\n            return b.to_pretty_string()\n\n        def __str__(self):\n            return self.__repr__()\n\n    def __init__(self):\n        self.size = 0\n        self.root = None\n\n    def add(self, val):\n        \"\"\"Adds `val` to this tree while maintaining BSTree properties.\"\"\"\n        assert(val not in self)\n\n        def rec_add(r,val):\n            if(r.val > val):\n                if(r.left):\n                    rec_add(r.left,val)\n                else:\n                    r.left = BSTree.Node(val)\n            elif(r.val < val):\n                if(r.right):\n                    rec_add(r.right,val)\n                else:\n                    r.right = BSTree.Node(val)\n\n        if self.root:\n            rec_add(self.root, val)\n        else:\n            self.root = Node(val)\n        self.size += 1\n\n    def __contains__(self, val):\n        \"\"\"Returns `True` if val is in this tree and `False` otherwise.\"\"\"\n        def rec_contains(r,val):\n            if r:\n                if(r.val == val):\n                    return True\n                elif(r.val > val):\n                    return rec_contains(r.left,val)\n                else:\n                    return rec_contains(r.right,val)\n        return rec_contains(self.root,val)\n\n    def __delitem__(self, val):\n        \"\"\"Removes `val` from this tree while maintaining BSTree properties.\"\"\"\n        assert(val in self)\n\n        def rec_del(parent,isleft,t,val):\n            if t.val > val:\n                rec_del(t, True, t.left, val)\n            elif t.val < val:\n                rec_del(t, False, t.right,val)\n            else:\n                if t.left and t.right: # node has two children, replace with largest value in the left subtree and then delete that one\n                    replaceval = t.left.tmax()\n                    t.val = replaceval\n                    rec_del(t, True, t.left, replaceval)\n                elif t.left: # replace node with its only child (the left one)\n                    t.val = t.left.val\n                    t.right = t.left.right\n                    t.left = t.left.left\n                elif t.right: # replace node with its only child (the right one)\n                    t.val = t.right.val\n                    t.left = t.right.left\n                    t.right = t.right.right\n                else:\n                    if parent:\n                        if isleft:\n                            parent.left = None\n                        else:\n                            parent.right = None\n\n        rec_del(None,None,self.root,val)\n\n        self.size += -1\n\n    def __iter__(self):\n        \"\"\"Returns an iterator over all the values in the tree, in ascending order.\"\"\"\n        def rec_iter(r):\n            if r:\n                yield from rec_iter(r.left)\n                yield r.val\n                yield from rec_iter(r.right)\n\n        yield from rec_iter(self.root)\n\n    def __len__(self):\n        return self.size\n\n    def to_pretty_string(self, width=64):\n        height = self.height()\n        nodes  = [(self.root, 0)]\n        prev_level = 0\n        repr_str = ''\n        while nodes:\n            n,level = nodes.pop(0)\n            if prev_level != level:\n                prev_level = level\n                repr_str += '\\n'\n            if not n:\n                if level < height-1:\n                    nodes.extend([(None, level+1), (None, level+1)])\n                repr_str += '{val:^{width}}'.format(val='-', width=width//2**level)\n            elif n:\n                if n.left or level < height-1:\n                    nodes.append((n.left, level+1))\n                if n.right or level < height-1:\n                    nodes.append((n.right, level+1))\n                repr_str += '{val:^{width}}'.format(val=n.val, width=width//2**level)\n        return repr_str\n\n    def pprint(self, width=64):\n        \"\"\"Attempts to pretty-print this tree's contents.\"\"\"\n        print(self.to_pretty_string(width))\n\n    def height(self):\n        \"\"\"Returns the height of the longest branch of the tree.\"\"\"\n        def height_rec(t):\n            if not t:\n                return 0\n            else:\n                return max(1+height_rec(t.left), 1+height_rec(t.right))\n        return height_rec(self.root)"
            ],
            "outputs": [
                {
                    "text": "# Out[265]:",
                    "output_type": "stream",
                    "name": "stdout"
                }
            ],
            "metadata": {
            },
            "execution_count": 1,
            "cell_type": "code"
        },
        {
            "source": [
                "t = BSTree()\nt.root = BSTree.Node(5,\n    left=BSTree.Node(2),\n    right=BSTree.Node(10))\nt.size = 3"
            ],
            "outputs": [
                {
                    "text": "# Out[144]:",
                    "output_type": "stream",
                    "name": "stdout"
                }
            ],
            "metadata": {
            },
            "execution_count": 1,
            "cell_type": "code"
        },
        {
            "source": [
                "t.pprint()"
            ],
            "outputs": [
                {
                    "text": "5\n               2                               10",
                    "output_type": "stream",
                    "name": "stdout"
                }
            ],
            "metadata": {
            },
            "execution_count": 1,
            "cell_type": "code"
        },
        {
            "source": [
                "print(t.height())"
            ],
            "outputs": [
                {
                    "text": "2",
                    "output_type": "stream",
                    "name": "stdout"
                }
            ],
            "metadata": {
            },
            "execution_count": 1,
            "cell_type": "code"
        },
        {
            "source": [
                "##### Example API Usage\n\n"
            ],
            "metadata": {
            },
            "cell_type": "markdown"
        },
        {
            "source": [
                "-   let us use the implementation of the API\n\n"
            ],
            "metadata": {
            },
            "cell_type": "markdown"
        },
        {
            "source": [
                "###### Search\n\n"
            ],
            "metadata": {
            },
            "cell_type": "markdown"
        },
        {
            "source": [
                "t = BSTree()\nt.root = BSTree.Node(5,\n    left=BSTree.Node(2),\n    right=BSTree.Node(10))\nt.size = 3"
            ],
            "outputs": [
                {
                    "text": "# Out[153]:",
                    "output_type": "stream",
                    "name": "stdout"
                }
            ],
            "metadata": {
            },
            "execution_count": 1,
            "cell_type": "code"
        },
        {
            "source": [
                "5 in t"
            ],
            "outputs": [
                {
                    "text": "# Out[150]:\nTrue",
                    "output_type": "stream",
                    "name": "stdout"
                }
            ],
            "metadata": {
            },
            "execution_count": 1,
            "cell_type": "code"
        },
        {
            "source": [
                "###### Add\n\n"
            ],
            "metadata": {
            },
            "cell_type": "markdown"
        },
        {
            "source": [
                "import random\nt = BSTree()\nvals = list(range(5))\nrandom.shuffle(vals)\nfor x in vals:\n    t.add(x)\nt.pprint()"
            ],
            "outputs": [
                {
                    "text": "3\n               0                               4\n       -               2               -               -\n   -       -       1       -       -       -       -       -",
                    "output_type": "stream",
                    "name": "stdout"
                }
            ],
            "metadata": {
            },
            "execution_count": 1,
            "cell_type": "code"
        },
        {
            "source": [
                "###### Removal\n\n"
            ],
            "metadata": {
            },
            "cell_type": "markdown"
        },
        {
            "source": [
                "t = BSTree()\nfor x in [10, 5, 15, 2, 17]:\n    t.add(x)\nt.pprint()"
            ],
            "outputs": [
                {
                    "text": "10\n               5                               15\n       2               -               -               17",
                    "output_type": "stream",
                    "name": "stdout"
                }
            ],
            "metadata": {
            },
            "execution_count": 1,
            "cell_type": "code"
        },
        {
            "source": [
                "del t[2]\nt.pprint()"
            ],
            "outputs": [
                {
                    "text": "10\n               5                               15\n       -               -               -               17",
                    "output_type": "stream",
                    "name": "stdout"
                }
            ],
            "metadata": {
            },
            "execution_count": 1,
            "cell_type": "code"
        },
        {
            "source": [
                "t = BSTree()\nfor x in [10, 5, 15, 2, 17]:\n    t.add(x)\nt.pprint()"
            ],
            "outputs": [
                {
                    "text": "10\n               5                               15\n       2               -               -               17",
                    "output_type": "stream",
                    "name": "stdout"
                }
            ],
            "metadata": {
            },
            "execution_count": 1,
            "cell_type": "code"
        },
        {
            "source": [
                "del t[5]\nt.pprint()"
            ],
            "outputs": [
                {
                    "text": "10\n               2                               15\n       -               -               -               17",
                    "output_type": "stream",
                    "name": "stdout"
                }
            ],
            "metadata": {
            },
            "execution_count": 1,
            "cell_type": "code"
        },
        {
            "source": [
                "t = BSTree()\nfor x in [10, 5, 15, 2, 17]:\n    t.add(x)\nt.pprint()"
            ],
            "outputs": [
                {
                    "text": "10\n               5                               15\n       2               -               -               17",
                    "output_type": "stream",
                    "name": "stdout"
                }
            ],
            "metadata": {
            },
            "execution_count": 1,
            "cell_type": "code"
        },
        {
            "source": [
                "del t[15]\nt.pprint()"
            ],
            "outputs": [
                {
                    "text": "10\n               5                               17\n       2               -               -               -",
                    "output_type": "stream",
                    "name": "stdout"
                }
            ],
            "metadata": {
            },
            "execution_count": 1,
            "cell_type": "code"
        },
        {
            "source": [
                "t = BSTree()\nfor x in [10, 5, 15, 2, 17]:\n    t.add(x)\nt.pprint()"
            ],
            "outputs": [
                {
                    "text": "10\n               5                               15\n       2               -               -               17",
                    "output_type": "stream",
                    "name": "stdout"
                }
            ],
            "metadata": {
            },
            "execution_count": 1,
            "cell_type": "code"
        },
        {
            "source": [
                "del t[10]\nt.pprint()"
            ],
            "outputs": [
                {
                    "text": "5\n               2                               15\n       -               -               -               17",
                    "output_type": "stream",
                    "name": "stdout"
                }
            ],
            "metadata": {
            },
            "execution_count": 1,
            "cell_type": "code"
        },
        {
            "source": [
                "t = BSTree()\nfor x in [10, 5, 2, 7, 9, 8, 1, 15, 12, 18]:\n    t.add(x)\nt.pprint()"
            ],
            "outputs": [
                {
                    "text": "10\n               5                               15\n       2               7               12              18\n   1       -       -       9       -       -       -       -\n -   -   -   -   -   -   8   -   -   -   -   -   -   -   -   -",
                    "output_type": "stream",
                    "name": "stdout"
                }
            ],
            "metadata": {
            },
            "execution_count": 1,
            "cell_type": "code"
        },
        {
            "source": [
                "del t[15]\nt.pprint()"
            ],
            "outputs": [
                {
                    "text": "10\n               5                               12\n       2               7               -               18\n   1       -       -       9       -       -       -       -\n -   -   -   -   -   -   8   -   -   -   -   -   -   -   -   -",
                    "output_type": "stream",
                    "name": "stdout"
                }
            ],
            "metadata": {
            },
            "execution_count": 1,
            "cell_type": "code"
        },
        {
            "source": [
                "t = BSTree()\nfor x in [10, 5, 2, 7, 9, 8, 1, 15, 12, 18]:\n    t.add(x)\nt.pprint()"
            ],
            "outputs": [
                {
                    "text": "10\n               5                               15\n       2               7               12              18\n   1       -       -       9       -       -       -       -\n -   -   -   -   -   -   8   -   -   -   -   -   -   -   -   -",
                    "output_type": "stream",
                    "name": "stdout"
                }
            ],
            "metadata": {
            },
            "execution_count": 1,
            "cell_type": "code"
        },
        {
            "source": [
                "del t[5]\nt.pprint()"
            ],
            "outputs": [
                {
                    "text": "10\n               2                               15\n       1               7               12              18\n   -       -       -       9       -       -       -       -\n -   -   -   -   -   -   8   -   -   -   -   -   -   -   -   -",
                    "output_type": "stream",
                    "name": "stdout"
                }
            ],
            "metadata": {
            },
            "execution_count": 1,
            "cell_type": "code"
        },
        {
            "source": [
                "t = BSTree()\nfor x in [10, 5, 2, 7, 9, 8, 1, 15, 12, 18]:\n    t.add(x)\nt.pprint()"
            ],
            "outputs": [
                {
                    "text": "10\n               5                               15\n       2               7               12              18\n   1       -       -       9       -       -       -       -\n -   -   -   -   -   -   8   -   -   -   -   -   -   -   -   -",
                    "output_type": "stream",
                    "name": "stdout"
                }
            ],
            "metadata": {
            },
            "execution_count": 1,
            "cell_type": "code"
        },
        {
            "source": [
                "del t[10]\nt.pprint()"
            ],
            "outputs": [
                {
                    "text": "9\n               5                               15\n       2               7               12              18\n   1       -       -       8       -       -       -       -",
                    "output_type": "stream",
                    "name": "stdout"
                }
            ],
            "metadata": {
            },
            "execution_count": 1,
            "cell_type": "code"
        },
        {
            "source": [
                "###### Iteration / Traversal\n\n"
            ],
            "metadata": {
            },
            "cell_type": "markdown"
        },
        {
            "source": [
                "import random\nt = BSTree()\nvals = list(range(20))\nrandom.shuffle(vals)\nfor x in vals:\n    t.add(x)\nfor x in t:\n    print(x)"
            ],
            "outputs": [
                {
                    "text": "0\n1\n2\n3\n4\n5\n6\n7\n8\n9\n10\n11\n12\n13\n14\n15\n16\n17\n18\n19",
                    "output_type": "stream",
                    "name": "stdout"
                }
            ],
            "metadata": {
            },
            "execution_count": 1,
            "cell_type": "code"
        }
    ]
}
